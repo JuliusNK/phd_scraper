{
  "nbformat": 4,
  "nbformat_minor": 0,
  "metadata": {
    "kernelspec": {
      "display_name": "Python 3",
      "language": "python",
      "name": "python3"
    },
    "language_info": {
      "codemirror_mode": {
        "name": "ipython",
        "version": 3
      },
      "file_extension": ".py",
      "mimetype": "text/x-python",
      "name": "python",
      "nbconvert_exporter": "python",
      "pygments_lexer": "ipython3",
      "version": "3.6.7"
    },
    "colab": {
      "name": "extractdata_senamhi_realtime.ipynb",
      "provenance": [],
      "include_colab_link": true
    }
  },
  "cells": [
    {
      "cell_type": "markdown",
      "metadata": {
        "id": "view-in-github",
        "colab_type": "text"
      },
      "source": [
        "<a href=\"https://colab.research.google.com/github/ryali93/ScrappingToolKit/blob/master/extractdata_senamhi_realtime.ipynb\" target=\"_parent\"><img src=\"https://colab.research.google.com/assets/colab-badge.svg\" alt=\"Open In Colab\"/></a>"
      ]
    },
    {
      "cell_type": "code",
      "metadata": {
        "id": "l9W1MTWfZcIL",
        "colab_type": "code",
        "colab": {}
      },
      "source": [
        "import os\n",
        "import requests\n",
        "from bs4 import BeautifulSoup\n",
        "import json\n",
        "import traceback\n",
        "import pandas as pd"
      ],
      "execution_count": 0,
      "outputs": []
    },
    {
      "cell_type": "markdown",
      "metadata": {
        "id": "Y9T23f8LZcIS",
        "colab_type": "text"
      },
      "source": [
        "## Leer archivo estaciones"
      ]
    },
    {
      "cell_type": "markdown",
      "metadata": {
        "id": "2egBlxQWZcIT",
        "colab_type": "text"
      },
      "source": [
        "Abrir archivo json"
      ]
    },
    {
      "cell_type": "code",
      "metadata": {
        "id": "8r4aPOVqZcIU",
        "colab_type": "code",
        "colab": {}
      },
      "source": [
        "with open('estaciones_realtime.json', 'r', encoding='cp1252') as f:\n",
        "    est = json.load(f)\n",
        "f.close()"
      ],
      "execution_count": 0,
      "outputs": []
    },
    {
      "cell_type": "markdown",
      "metadata": {
        "id": "3uxbRhavZcIY",
        "colab_type": "text"
      },
      "source": [
        "Definir función para extraer altura"
      ]
    },
    {
      "cell_type": "code",
      "metadata": {
        "id": "oPorcwVWZcIZ",
        "colab_type": "code",
        "colab": {}
      },
      "source": [
        "def agregar_altura(cod, estado, tipo_esta, cate, cod_old=None):\n",
        "    if estado == \"AUTOMATICA\":\n",
        "        url = \"https://www.senamhi.gob.pe/mapas/mapa-estaciones-2/map_red_graf.php?cod={}&estado={}&tipo_esta={}&cate={}\".format(cod, estado, tipo_esta, cate)\n",
        "    else:\n",
        "        url = \"https://www.senamhi.gob.pe/mapas/mapa-estaciones-2/map_red_graf.php?cod={}&estado={}&tipo_esta={}&cate={}&cod_old={}\".format(cod, estado, tipo_esta, cate, cod_old)\n",
        "    response = requests.get(url)\n",
        "    soup = BeautifulSoup(response.text, \"html.parser\")\n",
        "\n",
        "    for s in soup.find_all(\"td\"):\n",
        "        if len(s) > 0:\n",
        "            if \"msnm\" in s.text:\n",
        "                alt = s.text.split(\" \")[0]\n",
        "    return alt"
      ],
      "execution_count": 0,
      "outputs": []
    },
    {
      "cell_type": "markdown",
      "metadata": {
        "id": "UJ8YkYjbZcIc",
        "colab_type": "text"
      },
      "source": [
        "Extraer alturas para todos los datos y guardarlo en diccionario"
      ]
    },
    {
      "cell_type": "code",
      "metadata": {
        "scrolled": true,
        "id": "AZSKbnmsZcId",
        "colab_type": "code",
        "colab": {}
      },
      "source": [
        "a = 0\n",
        "for e in est:\n",
        "    print(a)\n",
        "    if \"cod_old\" in e.keys():\n",
        "        alt = agregar_altura(e[\"cod\"], e[\"estado\"], e[\"ico\"], e[\"cate\"], e[\"cod_old\"])\n",
        "    else:\n",
        "        alt = agregar_altura(e[\"cod\"], e[\"estado\"], e[\"ico\"], e[\"cate\"])\n",
        "    est[a][\"alt\"] = alt\n",
        "    a += 1"
      ],
      "execution_count": 0,
      "outputs": []
    },
    {
      "cell_type": "markdown",
      "metadata": {
        "id": "5XyykaqEZcIi",
        "colab_type": "text"
      },
      "source": [
        "## Crear función para extraer data en tiempo real"
      ]
    },
    {
      "cell_type": "code",
      "metadata": {
        "id": "_1kthaPAZcIj",
        "colab_type": "code",
        "colab": {}
      },
      "source": [
        "def data_senamhi_realtime(estacion, year_month):\n",
        "    cod = e[\"cod\"]\n",
        "    tipo_esta = e[\"ico\"]\n",
        "    estado = e[\"estado\"]\n",
        "    cod_old = e[\"cod_old\"] if \"cod_old\" in e.keys() else \"\"\n",
        "    cate_esta = e[\"cate\"]\n",
        "    altitud = e[\"alt\"]\n",
        "    \n",
        "    url = \"https://www.senamhi.gob.pe/mapas/mapa-estaciones-2/_dato_esta_tipo02.php\"\n",
        "    new_url = \"{}?estaciones={}&CBOFiltro={}&t_e={}&estado={}&cod_old={}&cate_esta={}&alt={}\".format(\n",
        "            url, cod, year_month, tipo_esta, estado, cod_old, cate_esta, altitud)\n",
        "    \n",
        "    s = requests.get(new_url)\n",
        "    html = s.text\n",
        "    soup = BeautifulSoup(html, 'html.parser')\n",
        "    tables = [\n",
        "        [\n",
        "            [td.get_text(strip=True) for td in tr.find_all('td')] \n",
        "            for tr in table.find_all('tr')\n",
        "        ] \n",
        "        for table in soup.find_all('table')\n",
        "    ]\n",
        "    \n",
        "    if tipo_esta == \"M\":\n",
        "        if estado == \"AUTOMATICA\":\n",
        "            cols = [\"fecha\", \"hora\", \"temp\", \"pp\", \"humedad\", \"dir_viento\", \"vel_viento\"]\n",
        "            df = pd.DataFrame(tables[1][1:], columns=cols)\n",
        "        else:\n",
        "            cols = [\"fecha\", \"temp_max\", \"temp_min\", \"hum_relativa\", \"pp\"]\n",
        "            df = pd.DataFrame(tables[1][2:], columns=cols)\n",
        "    elif tipo_esta == \"H\":\n",
        "        if estado == \"AUTOMATICA\":\n",
        "            cols = [\"fecha\", \"hora\", \"nivel\", \"pp\"]\n",
        "            df = pd.DataFrame(tables[1][1:], columns=cols)\n",
        "        else:\n",
        "            cols = [\"fecha\", \"nivel_06\", \"nivel_10\", \"nivel_14\", \"nivel_18\"]\n",
        "            df = pd.DataFrame(tables[1][2:], columns=cols)\n",
        "    return df"
      ],
      "execution_count": 0,
      "outputs": []
    },
    {
      "cell_type": "code",
      "metadata": {
        "id": "eqGBXtKVZcIm",
        "colab_type": "code",
        "colab": {}
      },
      "source": [
        "def main(estacion, year_month):\n",
        "    ldates = [str(y) + str(x).zfill(2) for x in range(1,13) for y in range(year_month[0], year_month[1])]\n",
        "    ldates.sort()\n",
        "    data = []\n",
        "    for l in ldates:\n",
        "        try:\n",
        "            df = data_senamhi_realtime(estacion, l)\n",
        "            if type(data) == list:\n",
        "                data = pd.DataFrame({}, columns = list(df.columns))\n",
        "            else:\n",
        "                data = data.append(df)\n",
        "        except:\n",
        "            pass\n",
        "    return data"
      ],
      "execution_count": 0,
      "outputs": []
    },
    {
      "cell_type": "code",
      "metadata": {
        "id": "CWzR5FcaZcIp",
        "colab_type": "code",
        "colab": {}
      },
      "source": [
        "with open('estaciones_realtime.json', 'r', encoding=\"cp1252\") as f:\n",
        "    estaciones = json.load(f)\n",
        "f.close()"
      ],
      "execution_count": 0,
      "outputs": []
    },
    {
      "cell_type": "code",
      "metadata": {
        "scrolled": true,
        "id": "Vgj-U2-uZcIs",
        "colab_type": "code",
        "colab": {},
        "outputId": "f23c470e-f12f-498c-8023-6aefdc2e305d"
      },
      "source": [
        "folder = r'E:\\2019\\SENAMHI\\senamhi_data\\data_realtime'\n",
        "list_error = []\n",
        "zz = 0\n",
        "for e in estaciones[646:700]:\n",
        "    print(\"{}: {} - {}\".format(zz, e[\"ico\"], e[\"nom\"]))\n",
        "    try:\n",
        "        data = main(e, [1980, 2020])\n",
        "        path_csv = \"{}_{}.csv\".format(e[\"ico\"], e[\"cod\"])\n",
        "        data.to_csv(os.path.join(folder, path_csv))\n",
        "    except:\n",
        "        list_error.append(e)\n",
        "    zz += 1"
      ],
      "execution_count": 0,
      "outputs": [
        {
          "output_type": "stream",
          "text": [
            "0: M - SALPO\n",
            "1: M - HUAMACHUCO\n",
            "2: M - CACHICADAN\n",
            "3: M - REQUE\n",
            "4: M - OYOTUN\n",
            "5: M - SIPAN\n",
            "6: M - CAYALTI\n",
            "7: M - LAMBAYEQUE\n",
            "8: M - JAYANCA (LA VIÃ‘A)\n",
            "9: M - PASABAR\n",
            "10: M - CAMPO DE MARTE\n",
            "11: M - CHOSICA\n",
            "12: H - CHOSICA\n",
            "13: M - Ã‘AÃ‘A\n",
            "14: H - PUENTE HUACHIPA\n",
            "15: H - YONAN GORE\n",
            "16: M - CUTERVO GORE\n",
            "17: H - TUNEL CHOTANO\n",
            "18: H - CUMBA\n",
            "19: M - BAMBAMARCA GORE\n",
            "20: H - BAMBAMARCA H GORE\n",
            "21: M - CHUGUR\n",
            "22: M - JAEN GORE\n",
            "23: H - HUALLAPE\n",
            "24: M - SAN IGNACIO GORE\n",
            "25: M - SAN MARCOS\n",
            "26: H - TONGOD\n",
            "27: H - CIRATO CAÃ‘AD\n",
            "28: H - CIRATO\n",
            "29: H - PUENTE AMBAN\n",
            "30: M - CHANCAY BAÃ‘OS\n",
            "31: M - SORAYPAMPA\n",
            "32: M - CALCA\n",
            "33: M - NUEVO PISAC\n",
            "34: M - SAUSAYA\n",
            "35: M - PAYAPUNKU\n",
            "36: M - SICUANI\n",
            "37: H - SALCCA\n",
            "38: M - SIBINACOCHA\n",
            "39: M - QUISOQUIPINA\n",
            "40: M - MARCA CUNKA\n",
            "41: M - SANTO TOMAS\n",
            "42: M - HUAYHUAHUASI\n",
            "43: M - QUILLABAMBA\n",
            "44: M - PONGO DE MAINIQUE GORE\n",
            "45: M - SAN PABLO\n",
            "46: M - PICHARI\n",
            "47: H - PAUCARTAMBO\n",
            "48: M - ACJANACO GORE\n",
            "49: M - ASHANAKU\n",
            "50: M - MARCAPATA GORE\n",
            "51: H - CHILCA\n",
            "52: M - QORIHUAYRACHINA\n",
            "53: M - MACHUPICCHU\n"
          ],
          "name": "stdout"
        }
      ]
    },
    {
      "cell_type": "code",
      "metadata": {
        "id": "HyMjcHK5ZcIv",
        "colab_type": "code",
        "colab": {},
        "outputId": "4a9e5618-048f-4efa-a2ee-ac6e451acd3d"
      },
      "source": [
        "list_error"
      ],
      "execution_count": 0,
      "outputs": [
        {
          "output_type": "execute_result",
          "data": {
            "text/plain": [
              "[{'nom': 'MAGUNCHAL',\n",
              "  'cate': 'PLU',\n",
              "  'lat': -5.89106,\n",
              "  'lon': -78.18886,\n",
              "  'ico': 'M',\n",
              "  'cod': '105046',\n",
              "  'cod_old': '152210',\n",
              "  'estado': 'DIFERIDO',\n",
              "  'alt': '632'},\n",
              " {'nom': 'SANTIAGO ANTUNEZ DE MAYOLO',\n",
              "  'cate': 'MAP',\n",
              "  'lat': -9.51653,\n",
              "  'lon': -77.52486,\n",
              "  'ico': 'M',\n",
              "  'cod': '109009',\n",
              "  'cod_old': '000426',\n",
              "  'estado': 'DIFERIDO',\n",
              "  'alt': '3079'},\n",
              " {'nom': 'CHACCHAN',\n",
              "  'cate': 'PLU',\n",
              "  'lat': -9.53519,\n",
              "  'lon': -77.77536,\n",
              "  'ico': 'M',\n",
              "  'cod': '109045',\n",
              "  'cod_old': '154107',\n",
              "  'estado': 'DIFERIDO',\n",
              "  'alt': '2266'}]"
            ]
          },
          "metadata": {
            "tags": []
          },
          "execution_count": 8
        }
      ]
    },
    {
      "cell_type": "code",
      "metadata": {
        "scrolled": true,
        "id": "WhNz4BVgZcIz",
        "colab_type": "code",
        "colab": {},
        "outputId": "9b033371-6df9-4370-a56c-c783f093c3a2"
      },
      "source": [
        "list_error"
      ],
      "execution_count": 0,
      "outputs": [
        {
          "output_type": "execute_result",
          "data": {
            "text/plain": [
              "[{'nom': 'PALCA',\n",
              "  'cate': 'EMA',\n",
              "  'lat': -15.23587,\n",
              "  'lon': -70.59315,\n",
              "  'ico': 'M',\n",
              "  'cod': '472E37C6',\n",
              "  'estado': 'AUTOMATICA',\n",
              "  'alt': '4073'}]"
            ]
          },
          "metadata": {
            "tags": []
          },
          "execution_count": 10
        }
      ]
    }
  ]
}